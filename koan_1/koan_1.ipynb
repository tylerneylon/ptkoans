{
 "cells": [
  {
   "cell_type": "markdown",
   "id": "840ad18c-1c6b-476d-bf6f-7f0193265ecc",
   "metadata": {},
   "source": [
    "# koan_1 — Arithmetic and gradients\n",
    "\n",
    "The purpose of this koan is to practice basic\n",
    "arithmetic and finding derivatives with pytorch.\n",
    "\n",
    "Here is the problem to solve:\n",
    "Implement the following equations:\n",
    "\n",
    "$\\begin{eqnarray}\n",
    "y & = & a + bc \\\\\n",
    "a & = & x^2 \\\\\n",
    "b & = & x + 1 \\\\\n",
    "c & = & 3x \\\\\n",
    "\\end{eqnarray}$\n",
    "\n",
    "And find the derivative $\\frac{\\partial y}{\\partial x}$ for some values of $x$."
   ]
  },
  {
   "cell_type": "markdown",
   "id": "580b2346-0bd6-42a3-b2bd-01b1644f1922",
   "metadata": {},
   "source": [
    "## Imports"
   ]
  },
  {
   "cell_type": "code",
   "execution_count": 1,
   "id": "088bd3d7-ff93-4938-a0d0-87a307b5c422",
   "metadata": {},
   "outputs": [],
   "source": [
    "import torch"
   ]
  },
  {
   "cell_type": "markdown",
   "id": "01047b87-9a2b-45ae-99ab-c954b2782fbc",
   "metadata": {},
   "source": [
    "## Define the function\n",
    "\n",
    "Include gradients."
   ]
  },
  {
   "cell_type": "code",
   "execution_count": 24,
   "id": "6584f5fc-45ec-4118-a671-dcf9dd902a4d",
   "metadata": {},
   "outputs": [],
   "source": [
    "def f(x):\n",
    "    ''' This assumes x is a torch tensor that tracks gradients. '''\n",
    "    a = x ** 2\n",
    "    b = x + 1\n",
    "    c = 3 * x\n",
    "    return a + b * c"
   ]
  },
  {
   "cell_type": "markdown",
   "id": "b2216000-c09c-487e-ad06-3c366b2cdfb3",
   "metadata": {},
   "source": [
    "## Check the output and derivative in some cases\n",
    "\n",
    "Mathematically, the function is:\n",
    "\n",
    "$y = x^2 + (x+1)3x = 4x^2 + 3x$\n",
    "\n",
    "so that:\n",
    "\n",
    "$y'=8x+3$.\n",
    "\n",
    "So here are a couple sample values:\n",
    "\n",
    "* $(x,y,y') = (-1, 1, -5)$\n",
    "* $(x,y,y') = (2, 22, 19)$\n",
    "* $(x,y,y') = (-2, 10, -13)$"
   ]
  },
  {
   "cell_type": "code",
   "execution_count": 33,
   "id": "195e5365-4777-43cb-a37e-5b729b5fa130",
   "metadata": {},
   "outputs": [
    {
     "name": "stdout",
     "output_type": "stream",
     "text": [
      "x -1 y  1.0 y'  -5.0\n",
      "x  2 y 22.0 y'  19.0\n",
      "x -2 y 10.0 y' -13.0\n"
     ]
    }
   ],
   "source": [
    "for x_ in [-1, 2, -2]:\n",
    "    x = torch.tensor(x_, requires_grad=True, dtype=torch.float32)\n",
    "    y = f(x)\n",
    "    y.backward()\n",
    "    print('x', f'{x_:2d}', 'y', f'{y.item():4.1f}', \"y'\", f'{x.grad.item():5.1f}')"
   ]
  }
 ],
 "metadata": {
  "kernelspec": {
   "display_name": "Python 3 (ipykernel)",
   "language": "python",
   "name": "python3"
  },
  "language_info": {
   "codemirror_mode": {
    "name": "ipython",
    "version": 3
   },
   "file_extension": ".py",
   "mimetype": "text/x-python",
   "name": "python",
   "nbconvert_exporter": "python",
   "pygments_lexer": "ipython3",
   "version": "3.11.3"
  }
 },
 "nbformat": 4,
 "nbformat_minor": 5
}
