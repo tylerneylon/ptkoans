{
 "cells": [
  {
   "cell_type": "markdown",
   "id": "25d6bd65-42c8-43a9-9d4c-089652cae5e1",
   "metadata": {},
   "source": [
    "# koan_2 — Linear regression\n",
    "\n",
    "The purpose of this koan is to solve a simple optimization problem.\n",
    "\n",
    "In particular, we'll set up some pairs of data points $(x, y)$ where\n",
    "\n",
    "$$y \\approx Ax,$$\n",
    "\n",
    "with $x, y$ being column vectors, and $A$ being a matrix.\n",
    "\n",
    "Given these noisy data points, our goal will be to reconstruct\n",
    "the matrix $A$, treating this as a numeric optimization problem."
   ]
  },
  {
   "cell_type": "markdown",
   "id": "095d5e62-bffe-48c6-9a0f-43cc6ddea5ce",
   "metadata": {},
   "source": [
    "## Imports"
   ]
  },
  {
   "cell_type": "code",
   "execution_count": 1,
   "id": "105a6543-18e9-490d-80a3-654377680fd5",
   "metadata": {},
   "outputs": [],
   "source": [
    "%matplotlib inline\n",
    "\n",
    "import time\n",
    "\n",
    "import matplotlib.pyplot as plt\n",
    "\n",
    "import torch\n",
    "from torch import nn\n",
    "from torch.utils.data import DataLoader, TensorDataset"
   ]
  },
  {
   "cell_type": "markdown",
   "id": "32c6b2d7-eed1-48c9-9d49-e0eb055df3e2",
   "metadata": {},
   "source": [
    "## Create our noisy data points"
   ]
  },
  {
   "cell_type": "code",
   "execution_count": 2,
   "id": "e809ee55-94a4-42be-a7d7-09995be4e935",
   "metadata": {},
   "outputs": [],
   "source": [
    "# Set up the matrix A.\n",
    "torch.manual_seed(42)\n",
    "A = torch.rand(5, 5)"
   ]
  },
  {
   "cell_type": "code",
   "execution_count": 3,
   "id": "27c2ac7d-aca2-4f4e-aa27-a44e39e4430b",
   "metadata": {},
   "outputs": [
    {
     "data": {
      "text/plain": [
       "tensor([[0.8823, 0.9150, 0.3829, 0.9593, 0.3904],\n",
       "        [0.6009, 0.2566, 0.7936, 0.9408, 0.1332],\n",
       "        [0.9346, 0.5936, 0.8694, 0.5677, 0.7411],\n",
       "        [0.4294, 0.8854, 0.5739, 0.2666, 0.6274],\n",
       "        [0.2696, 0.4414, 0.2969, 0.8317, 0.1053]])"
      ]
     },
     "execution_count": 3,
     "metadata": {},
     "output_type": "execute_result"
    }
   ],
   "source": [
    "A"
   ]
  },
  {
   "cell_type": "code",
   "execution_count": 4,
   "id": "93936db9-4e76-49e7-b760-8d1eef1ec2c3",
   "metadata": {},
   "outputs": [],
   "source": [
    "# Create 500 data points.\n",
    "n     = 1_000\n",
    "all_x = 10 * torch.rand(n, 5)\n",
    "eps   =  2 * torch.randn(n, 5)\n",
    "all_y = (A @ all_x.T + eps.T).T"
   ]
  },
  {
   "cell_type": "code",
   "execution_count": 5,
   "id": "a2e457eb-468f-47cc-a1a8-cb7ab783ccd2",
   "metadata": {},
   "outputs": [
    {
     "data": {
      "text/plain": [
       "torch.Size([1000, 5])"
      ]
     },
     "execution_count": 5,
     "metadata": {},
     "output_type": "execute_result"
    }
   ],
   "source": [
    "# Sanity check.\n",
    "all_y.shape"
   ]
  },
  {
   "cell_type": "code",
   "execution_count": 6,
   "id": "67d03984-4d31-49e6-83a8-34283d330f24",
   "metadata": {},
   "outputs": [],
   "source": [
    "# Set up a DataLoader with this data.\n",
    "dataset = TensorDataset(all_x, all_y)\n",
    "dataloader = DataLoader(dataset, batch_size=100, shuffle=False)"
   ]
  },
  {
   "cell_type": "markdown",
   "id": "d7da3db8-a8e6-4065-ab51-02f0f566d5b7",
   "metadata": {},
   "source": [
    "## Set up the model\n",
    "\n",
    "This is a simple model capturing the relationship $y=Ax$."
   ]
  },
  {
   "cell_type": "code",
   "execution_count": 7,
   "id": "12f2bf26-ca42-4a66-af7f-e017e7cbe893",
   "metadata": {},
   "outputs": [],
   "source": [
    "class LinRegModel(nn.Module):\n",
    "    def __init__(self, input_dim, output_dim):\n",
    "        super().__init__()\n",
    "        self.linear = nn.Linear(input_dim, output_dim, bias=False)\n",
    "\n",
    "    def forward(self, x):\n",
    "        return self.linear(x)"
   ]
  },
  {
   "cell_type": "code",
   "execution_count": 8,
   "id": "fb2105da-9aa8-4b94-b160-d174bddb59f8",
   "metadata": {},
   "outputs": [],
   "source": [
    "model = LinRegModel(5, 5)"
   ]
  },
  {
   "cell_type": "markdown",
   "id": "852a7989-b05a-43c4-b16c-b605d4d2b550",
   "metadata": {},
   "source": [
    "## Train the model"
   ]
  },
  {
   "cell_type": "code",
   "execution_count": 9,
   "id": "97f5330d-82c3-4e86-aa05-254597e5e5e3",
   "metadata": {},
   "outputs": [],
   "source": [
    "# Set things up pre-training.\n",
    "\n",
    "loss_fn    = nn.MSELoss()\n",
    "opt        = torch.optim.Adam(model.parameters(), lr=0.01)\n",
    "num_epochs = 100"
   ]
  },
  {
   "cell_type": "code",
   "execution_count": 10,
   "id": "b21f3312-d3c4-4c4f-a4e9-7b42bb0c5704",
   "metadata": {
    "editable": true,
    "slideshow": {
     "slide_type": ""
    },
    "tags": []
   },
   "outputs": [
    {
     "name": "stdout",
     "output_type": "stream",
     "text": [
      "Epoch 100/100. Loss  3.851 A_diff 0.08257"
     ]
    }
   ],
   "source": [
    "# Train.\n",
    "# This is slightly slowed down so you can see the numbers evolve.\n",
    "\n",
    "losses = []\n",
    "A_diffs = []\n",
    "\n",
    "for epoch in range(num_epochs):\n",
    "    for x, y in dataloader:\n",
    "        \n",
    "        opt.zero_grad()\n",
    "        pred = model(x)\n",
    "        loss = loss_fn(pred, y)\n",
    "        loss.backward()\n",
    "        opt.step()\n",
    "    \n",
    "    A_diff = torch.norm(A - model.linear.weight.data)\n",
    "    print(f'\\rEpoch {epoch + 1:2d}/{num_epochs}. Loss {loss.item():6.3f} A_diff {A_diff:7.5f}', end='', flush=True)\n",
    "    losses.append(loss.item())\n",
    "    A_diffs.append(A_diff)\n",
    "    \n",
    "    time.sleep(0.05)"
   ]
  },
  {
   "cell_type": "code",
   "execution_count": 11,
   "id": "3bc3c1d7-234c-4204-b079-5c45c9b5937a",
   "metadata": {},
   "outputs": [
    {
     "data": {
      "image/png": "[encoded data removed]",
      "text/plain": [
       "<Figure size 640x480 with 1 Axes>"
      ]
     },
     "metadata": {},
     "output_type": "display_data"
    }
   ],
   "source": [
    "# Plot the trajectory of loss values and A diffs.\n",
    "\n",
    "plt.plot(losses, label='training loss')\n",
    "plt.plot(torch.log(torch.tensor(A_diffs)), label='log(|A - A\\'|)')\n",
    "plt.xlabel('Epoch')\n",
    "plt.legend()\n",
    "plt.show()"
   ]
  },
  {
   "cell_type": "code",
   "execution_count": 12,
   "id": "be445d69-2aa3-4d28-9c56-585342404750",
   "metadata": {},
   "outputs": [
    {
     "name": "stdout",
     "output_type": "stream",
     "text": [
      "Actual matrix A:\n",
      " tensor([[0.8823, 0.9150, 0.3829, 0.9593, 0.3904],\n",
      "        [0.6009, 0.2566, 0.7936, 0.9408, 0.1332],\n",
      "        [0.9346, 0.5936, 0.8694, 0.5677, 0.7411],\n",
      "        [0.4294, 0.8854, 0.5739, 0.2666, 0.6274],\n",
      "        [0.2696, 0.4414, 0.2969, 0.8317, 0.1053]])\n"
     ]
    }
   ],
   "source": [
    "print('Actual matrix A:\\n', A)"
   ]
  },
  {
   "cell_type": "code",
   "execution_count": 13,
   "id": "85394060-7118-4d0f-9eee-c95f395239dc",
   "metadata": {},
   "outputs": [
    {
     "name": "stdout",
     "output_type": "stream",
     "text": [
      "Approximated matrix A':\n",
      " tensor([[0.8776, 0.8931, 0.4134, 0.9405, 0.4135],\n",
      "        [0.6002, 0.2591, 0.7685, 0.9407, 0.1466],\n",
      "        [0.9320, 0.5983, 0.8651, 0.5636, 0.7500],\n",
      "        [0.4560, 0.8692, 0.5468, 0.2622, 0.6505],\n",
      "        [0.2678, 0.4658, 0.2797, 0.8485, 0.0951]])\n"
     ]
    }
   ],
   "source": [
    "print('Approximated matrix A\\':\\n', model.linear.weight.data)"
   ]
  },
  {
   "cell_type": "code",
   "execution_count": null,
   "id": "24e94cef-6f59-4876-af10-493fed3c8c91",
   "metadata": {},
   "outputs": [],
   "source": []
  }
 ],
 "metadata": {
  "kernelspec": {
   "display_name": "Python 3 (ipykernel)",
   "language": "python",
   "name": "python3"
  },
  "language_info": {
   "codemirror_mode": {
    "name": "ipython",
    "version": 3
   },
   "file_extension": ".py",
   "mimetype": "text/x-python",
   "name": "python",
   "nbconvert_exporter": "python",
   "pygments_lexer": "ipython3",
   "version": "3.11.3"
  }
 },
 "nbformat": 4,
 "nbformat_minor": 5
}
