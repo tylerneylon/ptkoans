{
 "cells": [
  {
   "cell_type": "markdown",
   "id": "1078c6d5-08c6-4d82-8c05-59e9dc746064",
   "metadata": {},
   "source": [
    "# Koan 6 — Collaborative filtering\n",
    "\n",
    "The purpose of this notebook is to train a collaborative filtering\n",
    "model that learns embedding vectors for both users and items,\n",
    "supporting lookups of per-user or per-item recommendations.\n",
    "\n",
    "This notebook uses the MovieLens 1m dataset, which has about 1 million\n",
    "user/movie ratings. To get the data, download the file `ml-1m.zip` from\n",
    "[here](https://grouplens.org/datasets/movielens/1m/). This notebook\n",
    "loads the data from `ml-1m/ratings.dat`, which should exist once you\n",
    "unzip that file."
   ]
  },
  {
   "cell_type": "markdown",
   "id": "cb3dddb2-0e55-48f6-a733-7a7169c13083",
   "metadata": {},
   "source": [
    "## Imports"
   ]
  },
  {
   "cell_type": "code",
   "execution_count": 1,
   "id": "8a485e86-a2b2-4301-9dd2-29e0350696ad",
   "metadata": {},
   "outputs": [],
   "source": [
    "%matplotlib inline\n",
    "\n",
    "# Non-torch imports\n",
    "import pandas as pd\n",
    "import matplotlib.pyplot as plt\n",
    "import numpy as np\n",
    "from tqdm import tqdm\n",
    "\n",
    "# pytorch imports\n",
    "import torch\n",
    "import torch.nn as nn\n",
    "import torch.optim as optim\n",
    "from torch.utils.data import Dataset, DataLoader, random_split"
   ]
  },
  {
   "cell_type": "markdown",
   "id": "1074d0da-05e5-47b7-90de-6b8f66e672dc",
   "metadata": {},
   "source": [
    "## Load the movie rating data"
   ]
  },
  {
   "cell_type": "code",
   "execution_count": 2,
   "id": "b923c921-78ac-476e-af05-cb86cb8f3ddd",
   "metadata": {},
   "outputs": [],
   "source": [
    "data = pd.read_csv(\n",
    "    'ml-1m/ratings.dat',\n",
    "    sep='::',\n",
    "    engine='python',\n",
    "    names=['userId', 'movieId', 'rating', 'timestamp']\n",
    ")"
   ]
  },
  {
   "cell_type": "code",
   "execution_count": 3,
   "id": "37385b79-f3d4-42a1-a533-5fa9513e9295",
   "metadata": {},
   "outputs": [
    {
     "data": {
      "text/html": [
       "<div>\n",
       "<style scoped>\n",
       "    .dataframe tbody tr th:only-of-type {\n",
       "        vertical-align: middle;\n",
       "    }\n",
       "\n",
       "    .dataframe tbody tr th {\n",
       "        vertical-align: top;\n",
       "    }\n",
       "\n",
       "    .dataframe thead th {\n",
       "        text-align: right;\n",
       "    }\n",
       "</style>\n",
       "<table border=\"1\" class=\"dataframe\">\n",
       "  <thead>\n",
       "    <tr style=\"text-align: right;\">\n",
       "      <th></th>\n",
       "      <th>userId</th>\n",
       "      <th>movieId</th>\n",
       "      <th>rating</th>\n",
       "      <th>timestamp</th>\n",
       "    </tr>\n",
       "  </thead>\n",
       "  <tbody>\n",
       "    <tr>\n",
       "      <th>876887</th>\n",
       "      <td>5299</td>\n",
       "      <td>2565</td>\n",
       "      <td>1</td>\n",
       "      <td>961005436</td>\n",
       "    </tr>\n",
       "    <tr>\n",
       "      <th>45626</th>\n",
       "      <td>307</td>\n",
       "      <td>2010</td>\n",
       "      <td>5</td>\n",
       "      <td>976485981</td>\n",
       "    </tr>\n",
       "    <tr>\n",
       "      <th>492915</th>\n",
       "      <td>3029</td>\n",
       "      <td>172</td>\n",
       "      <td>2</td>\n",
       "      <td>972845625</td>\n",
       "    </tr>\n",
       "    <tr>\n",
       "      <th>236248</th>\n",
       "      <td>1433</td>\n",
       "      <td>172</td>\n",
       "      <td>2</td>\n",
       "      <td>974760667</td>\n",
       "    </tr>\n",
       "    <tr>\n",
       "      <th>112604</th>\n",
       "      <td>731</td>\n",
       "      <td>2700</td>\n",
       "      <td>4</td>\n",
       "      <td>975529046</td>\n",
       "    </tr>\n",
       "  </tbody>\n",
       "</table>\n",
       "</div>"
      ],
      "text/plain": [
       "        userId  movieId  rating  timestamp\n",
       "876887    5299     2565       1  961005436\n",
       "45626      307     2010       5  976485981\n",
       "492915    3029      172       2  972845625\n",
       "236248    1433      172       2  974760667\n",
       "112604     731     2700       4  975529046"
      ]
     },
     "execution_count": 3,
     "metadata": {},
     "output_type": "execute_result"
    }
   ],
   "source": [
    "# See a sample of the data.\n",
    "data.sample(5)"
   ]
  },
  {
   "cell_type": "code",
   "execution_count": 4,
   "id": "1c8cabdc-757e-49af-8218-c5858e56a992",
   "metadata": {},
   "outputs": [
    {
     "data": {
      "text/plain": [
       "1000209"
      ]
     },
     "execution_count": 4,
     "metadata": {},
     "output_type": "execute_result"
    }
   ],
   "source": [
    "# How many ratings do we have?\n",
    "len(data)"
   ]
  },
  {
   "cell_type": "markdown",
   "id": "9185ec66-092e-4458-baac-f83c7d5b6601",
   "metadata": {},
   "source": [
    "## Set up datasets and loaders\n",
    "\n",
    "I'll do several interesting things here:\n",
    "* Set up \"internal ids\" for movies and users. I'll do this to ensure that I have\n",
    "  0-based, contiguous integer ids for all users and (separately) for all items (aka movies).\n",
    "  I'll need this kind of an id so that they can serve as row indexes into embedding matrices.\n",
    "* I'll dichotomize the labels as -1 or 1. The ratings given are in the range [1, 5], and I'll\n",
    "  map 1 or 2 stars to -1 and 3 or more stars to 1. This is somewhat subjective, but this is\n",
    "  how I see star ratings. You could argue that 3 stars should be closer to 0 but I think that if\n",
    "  someone took the time to watch a movie and didn't actively dislike it, that tends to be\n",
    "  a positive data point relative to the relationship between a random user and a random item,\n",
    "  which mathematically we'd expect to be closer to 0.\n",
    "* I'll save 10% of the data as test data. Since I've binarized the labels, we can use\n",
    "  accuracy as an evaluation metric."
   ]
  },
  {
   "cell_type": "code",
   "execution_count": 5,
   "id": "da918287-71dd-4121-b45c-d1d5424779fc",
   "metadata": {},
   "outputs": [],
   "source": [
    "# Set up a custom dataset class.\n",
    "class MovieDataset(Dataset):\n",
    "\n",
    "    def __init__(self, data):\n",
    "\n",
    "        # Make a public mapping between internal and external ids.\n",
    "        # By \"external\" ids, I mean those in the original data.\n",
    "        # And \"internal\" ids are 0-based and contiguous, indexing into the embedding matrices.\n",
    "        self.to_ext_id = {i: m for i, m in enumerate(data['movieId'].unique())}\n",
    "        self.to_int_id = {m: i for i, m in self.to_ext_id.items()}\n",
    "\n",
    "        self.to_int_user_id = {u: i for i, u in enumerate(data['userId'].unique())}\n",
    "\n",
    "        # Pull out these numbers to help initialize the model.\n",
    "        self.num_users  = len(self.to_int_user_id)\n",
    "        self.num_movies = len(self.to_int_id)\n",
    "\n",
    "        # Store rating data with our internal ids.\n",
    "        self.user_ids  = data['userId'].map(self.to_int_user_id).values\n",
    "        self.movie_ids = data['movieId'].map(self.to_int_id).values\n",
    "        self.ratings   = data['rating'].values\n",
    "        self.ratings   = np.where(self.ratings <= 2, -1, 1)  # Binarize the labels.\n",
    "\n",
    "    def __len__(self):\n",
    "        return len(self.ratings)\n",
    "\n",
    "    def __getitem__(self, idx):\n",
    "        return self.user_ids[idx], self.movie_ids[idx], self.ratings[idx]"
   ]
  },
  {
   "cell_type": "code",
   "execution_count": 6,
   "id": "6d94069b-ff9c-403d-8892-879b44f3447d",
   "metadata": {},
   "outputs": [],
   "source": [
    "# Create the dataset and split into test and train subsets.\n",
    "test_fraction = 0.1\n",
    "dataset = MovieDataset(data)\n",
    "train_ds, test_ds = random_split(dataset, [1 - test_fraction, test_fraction])"
   ]
  },
  {
   "cell_type": "code",
   "execution_count": 7,
   "id": "dd276d29-81d6-47e5-9b41-62669f55ef0e",
   "metadata": {},
   "outputs": [],
   "source": [
    "# Create the corresponding data loaders.\n",
    "train_loader = DataLoader(train_ds, batch_size=64, shuffle=True)\n",
    "test_loader  = DataLoader(test_ds,  batch_size=64, shuffle=False)"
   ]
  },
  {
   "cell_type": "markdown",
   "id": "0689cda2-2c64-4153-ad79-1cbe7694bf0e",
   "metadata": {},
   "source": [
    "## Define the model\n",
    "\n",
    "This is a simple model. One way to think of it is that there is a single\n",
    "user $u$ and a single movie $m$ as inputs. Consider both $u$ and $m$ to be\n",
    "one-hot row vectors. The model has two matrices, $M$ for movies and $U$ for\n",
    "users.\n",
    "\n",
    "$M$ has size $\\text{n\\_movies}\\times k$\n",
    "\n",
    "$U$ has size $\\text{n\\_users}\\times k$\n",
    "\n",
    "The output of the model is:\n",
    "$$m M U^T u^T,$$\n",
    "which is a single scalar.\n",
    "\n",
    "This is equivalent to taking the dot product $\\langle M_m,U_u\\rangle$.\n",
    "\n",
    "In other words, the matrix product $MU^T$ is aiming to approximately match all\n",
    "of the known rating values. The row $M_m$ is an embedding vector for movie $m$,\n",
    "and the row $U_u$ is an embedding vector for user $u$; the dot product between\n",
    "these is the predicted rating user $u$ would give for movie $m$. That's\n",
    "a simple and typical collaborative filtering setup."
   ]
  },
  {
   "cell_type": "code",
   "execution_count": 8,
   "id": "331a2bc4-cb87-4344-aa83-58cada4f9889",
   "metadata": {},
   "outputs": [],
   "source": [
    "class CFModel(nn.Module):\n",
    "\n",
    "    def __init__(self, num_users, num_movies, embedding_dim):\n",
    "        super().__init__()\n",
    "        self.user_matrix  = nn.Embedding(num_users,  embedding_dim)\n",
    "        self.movie_matrix = nn.Embedding(num_movies, embedding_dim)\n",
    "\n",
    "    def forward(self, user_ids, movie_ids):\n",
    "        user_vecs  = self.user_matrix(user_ids)\n",
    "        movie_vecs = self.movie_matrix(movie_ids)\n",
    "        return (user_vecs * movie_vecs).sum(dim=1)"
   ]
  },
  {
   "cell_type": "markdown",
   "id": "e194a325-7341-42e8-ba79-a6c2f6a65783",
   "metadata": {},
   "source": [
    "## Define the training process and test eval fn"
   ]
  },
  {
   "cell_type": "code",
   "execution_count": 9,
   "id": "39753571-db5b-478a-9fc3-6f558e2ae88d",
   "metadata": {},
   "outputs": [],
   "source": [
    "def train(model, device, loader, loss_fn, opt, epochs, eval_fn, losses, evals):\n",
    "    ''' Train `model` for `epochs` number of epochs.\n",
    "        Both `losses` and `evals` are expected to be lists where we append\n",
    "        one value (a loss or an eval metric) per epoch.\n",
    "    '''\n",
    "    for epoch in range(epochs):\n",
    "        total_loss = 0\n",
    "        model.train()\n",
    "        for users, movies, ratings in tqdm(loader, ncols=50):\n",
    "            \n",
    "            users   = users.to(device)\n",
    "            movies  = movies.to(device)\n",
    "            ratings = ratings.float().to(device)\n",
    "\n",
    "            opt.zero_grad()\n",
    "            pred = model(users, movies)\n",
    "            loss = loss_fn(pred, ratings)\n",
    "            loss.backward()\n",
    "            opt.step()\n",
    "            total_loss += loss.item()\n",
    "\n",
    "        avg_loss = total_loss / len(loader)\n",
    "        losses.append(avg_loss)\n",
    "\n",
    "        metric = eval_fn(model)\n",
    "        evals.append(metric)\n",
    "\n",
    "        print(f'Epoch {epoch + 1:2d}/{epochs}. Train loss: {avg_loss:.4f}. Test loss: {metric:.4f}')"
   ]
  },
  {
   "cell_type": "code",
   "execution_count": 10,
   "id": "1f5e2cc1-0ac2-4e2a-8a94-9348ad900ddb",
   "metadata": {},
   "outputs": [],
   "source": [
    "def get_eval_fn(model, loader, loss_fn):\n",
    "    \n",
    "    def eval_fn(model):\n",
    "        model.eval()\n",
    "        total_loss = 0\n",
    "        for users, movies, ratings in loader:\n",
    "            users   = users.to(device)\n",
    "            movies  = movies.to(device)\n",
    "            ratings = ratings.float().to(device)\n",
    "            pred = model(users, movies)\n",
    "            total_loss += loss_fn(pred, ratings).item()\n",
    "        return total_loss / len(loader)\n",
    "\n",
    "    return eval_fn"
   ]
  },
  {
   "cell_type": "markdown",
   "id": "e6d71691-d904-46a0-9dce-6723bbfa6b5b",
   "metadata": {},
   "source": [
    "## Train the model"
   ]
  },
  {
   "cell_type": "code",
   "execution_count": 11,
   "id": "e45b0b25-42c0-4799-a2d3-b205e65a010a",
   "metadata": {},
   "outputs": [],
   "source": [
    "# Determine where training will happen.\n",
    "device = 'cude' if torch.cuda.is_available() else 'cpu'"
   ]
  },
  {
   "cell_type": "code",
   "execution_count": 12,
   "id": "18e7d23b-96c1-481b-82e8-efd310e6be92",
   "metadata": {},
   "outputs": [],
   "source": [
    "# Create the model.\n",
    "# I'm using a small number for the embedding dimension to help avoid overfitting.\n",
    "embedding_dim = 20\n",
    "model = CFModel(dataset.num_users, dataset.num_movies, embedding_dim).to(device)"
   ]
  },
  {
   "cell_type": "code",
   "execution_count": 13,
   "id": "c508a5c4-5898-4a73-957b-9c849b0f5920",
   "metadata": {},
   "outputs": [],
   "source": [
    "# Set up the loss function and optimizer.\n",
    "# Setting the weight_decay value effectively gives us some regularization.\n",
    "loss_fn = nn.MSELoss()\n",
    "weight_decay = 2e-5\n",
    "opt = optim.Adam(model.parameters(), lr=0.01, weight_decay=weight_decay)"
   ]
  },
  {
   "cell_type": "code",
   "execution_count": 14,
   "id": "2c937a64-8c7e-4b0e-b4a4-26ee11c68a12",
   "metadata": {},
   "outputs": [],
   "source": [
    "# I'll track both the training and test loss values over time.\n",
    "losses, evals = [], []"
   ]
  },
  {
   "cell_type": "code",
   "execution_count": 15,
   "id": "83cbf833-127e-45b1-94bd-40f59c91459b",
   "metadata": {},
   "outputs": [
    {
     "name": "stderr",
     "output_type": "stream",
     "text": [
      "100%|█████| 14066/14066 [00:12<00:00, 1084.21it/s]\n"
     ]
    },
    {
     "name": "stdout",
     "output_type": "stream",
     "text": [
      "Epoch  1/6. Train loss: 1.1277. Test loss: 0.5367\n"
     ]
    },
    {
     "name": "stderr",
     "output_type": "stream",
     "text": [
      "100%|█████| 14066/14066 [00:12<00:00, 1147.88it/s]\n"
     ]
    },
    {
     "name": "stdout",
     "output_type": "stream",
     "text": [
      "Epoch  2/6. Train loss: 0.5178. Test loss: 0.5119\n"
     ]
    },
    {
     "name": "stderr",
     "output_type": "stream",
     "text": [
      "100%|█████| 14066/14066 [00:12<00:00, 1111.66it/s]\n"
     ]
    },
    {
     "name": "stdout",
     "output_type": "stream",
     "text": [
      "Epoch  3/6. Train loss: 0.5081. Test loss: 0.5081\n"
     ]
    },
    {
     "name": "stderr",
     "output_type": "stream",
     "text": [
      "100%|█████| 14066/14066 [00:12<00:00, 1147.85it/s]\n"
     ]
    },
    {
     "name": "stdout",
     "output_type": "stream",
     "text": [
      "Epoch  4/6. Train loss: 0.5076. Test loss: 0.5090\n"
     ]
    },
    {
     "name": "stderr",
     "output_type": "stream",
     "text": [
      "100%|█████| 14066/14066 [00:11<00:00, 1179.64it/s]\n"
     ]
    },
    {
     "name": "stdout",
     "output_type": "stream",
     "text": [
      "Epoch  5/6. Train loss: 0.5078. Test loss: 0.5079\n"
     ]
    },
    {
     "name": "stderr",
     "output_type": "stream",
     "text": [
      "100%|█████| 14066/14066 [00:12<00:00, 1148.77it/s]\n"
     ]
    },
    {
     "name": "stdout",
     "output_type": "stream",
     "text": [
      "Epoch  6/6. Train loss: 0.5068. Test loss: 0.5072\n"
     ]
    }
   ],
   "source": [
    "# I'll train in several sessions so that I can adjust the learning rate.\n",
    "eval_fn = get_eval_fn(model, test_loader, loss_fn)\n",
    "num_epochs = 6\n",
    "train(model, device, train_loader, loss_fn, opt, num_epochs, eval_fn, losses, evals)"
   ]
  },
  {
   "cell_type": "code",
   "execution_count": 16,
   "id": "460f5384-5b59-4750-b1cd-ac67d33828a0",
   "metadata": {},
   "outputs": [],
   "source": [
    "# Decrease the learning rate.\n",
    "for param_group in opt.param_groups:\n",
    "    param_group['lr'] = 0.001"
   ]
  },
  {
   "cell_type": "code",
   "execution_count": 17,
   "id": "5bc1c0dd-74dd-4e13-8daf-33c524843db3",
   "metadata": {},
   "outputs": [
    {
     "name": "stderr",
     "output_type": "stream",
     "text": [
      "100%|█████| 14066/14066 [00:12<00:00, 1099.06it/s]\n"
     ]
    },
    {
     "name": "stdout",
     "output_type": "stream",
     "text": [
      "Epoch  1/6. Train loss: 0.4179. Test loss: 0.4134\n"
     ]
    },
    {
     "name": "stderr",
     "output_type": "stream",
     "text": [
      "100%|█████| 14066/14066 [00:13<00:00, 1075.03it/s]\n"
     ]
    },
    {
     "name": "stdout",
     "output_type": "stream",
     "text": [
      "Epoch  2/6. Train loss: 0.3860. Test loss: 0.4037\n"
     ]
    },
    {
     "name": "stderr",
     "output_type": "stream",
     "text": [
      "100%|█████| 14066/14066 [00:13<00:00, 1079.88it/s]\n"
     ]
    },
    {
     "name": "stdout",
     "output_type": "stream",
     "text": [
      "Epoch  3/6. Train loss: 0.3766. Test loss: 0.4003\n"
     ]
    },
    {
     "name": "stderr",
     "output_type": "stream",
     "text": [
      "100%|██████| 14066/14066 [00:14<00:00, 973.18it/s]\n"
     ]
    },
    {
     "name": "stdout",
     "output_type": "stream",
     "text": [
      "Epoch  4/6. Train loss: 0.3695. Test loss: 0.3986\n"
     ]
    },
    {
     "name": "stderr",
     "output_type": "stream",
     "text": [
      "100%|█████| 14066/14066 [00:13<00:00, 1069.62it/s]\n"
     ]
    },
    {
     "name": "stdout",
     "output_type": "stream",
     "text": [
      "Epoch  5/6. Train loss: 0.3647. Test loss: 0.3982\n"
     ]
    },
    {
     "name": "stderr",
     "output_type": "stream",
     "text": [
      "100%|██████| 14066/14066 [00:14<00:00, 982.92it/s]\n"
     ]
    },
    {
     "name": "stdout",
     "output_type": "stream",
     "text": [
      "Epoch  6/6. Train loss: 0.3614. Test loss: 0.3977\n"
     ]
    }
   ],
   "source": [
    "# The second session of training.\n",
    "train(model, device, train_loader, loss_fn, opt, num_epochs, eval_fn, losses, evals)"
   ]
  },
  {
   "cell_type": "code",
   "execution_count": 18,
   "id": "d894324a-a34e-4431-ac31-b80176b202ef",
   "metadata": {},
   "outputs": [],
   "source": [
    "# Decrease the learning rate.\n",
    "for param_group in opt.param_groups:\n",
    "    param_group['lr'] = 0.00001"
   ]
  },
  {
   "cell_type": "code",
   "execution_count": 19,
   "id": "296dc90b-ad1b-4757-bb77-4e9dc95fb6d2",
   "metadata": {},
   "outputs": [
    {
     "name": "stderr",
     "output_type": "stream",
     "text": [
      "100%|█████| 14066/14066 [00:12<00:00, 1135.00it/s]\n"
     ]
    },
    {
     "name": "stdout",
     "output_type": "stream",
     "text": [
      "Epoch  1/6. Train loss: 0.3381. Test loss: 0.3975\n"
     ]
    },
    {
     "name": "stderr",
     "output_type": "stream",
     "text": [
      "100%|█████| 14066/14066 [00:12<00:00, 1161.83it/s]\n"
     ]
    },
    {
     "name": "stdout",
     "output_type": "stream",
     "text": [
      "Epoch  2/6. Train loss: 0.3378. Test loss: 0.3974\n"
     ]
    },
    {
     "name": "stderr",
     "output_type": "stream",
     "text": [
      "100%|█████| 14066/14066 [00:11<00:00, 1216.74it/s]\n"
     ]
    },
    {
     "name": "stdout",
     "output_type": "stream",
     "text": [
      "Epoch  3/6. Train loss: 0.3376. Test loss: 0.3973\n"
     ]
    },
    {
     "name": "stderr",
     "output_type": "stream",
     "text": [
      "100%|█████| 14066/14066 [00:12<00:00, 1165.49it/s]\n"
     ]
    },
    {
     "name": "stdout",
     "output_type": "stream",
     "text": [
      "Epoch  4/6. Train loss: 0.3373. Test loss: 0.3971\n"
     ]
    },
    {
     "name": "stderr",
     "output_type": "stream",
     "text": [
      "100%|█████| 14066/14066 [00:12<00:00, 1107.11it/s]\n"
     ]
    },
    {
     "name": "stdout",
     "output_type": "stream",
     "text": [
      "Epoch  5/6. Train loss: 0.3370. Test loss: 0.3970\n"
     ]
    },
    {
     "name": "stderr",
     "output_type": "stream",
     "text": [
      "100%|█████| 14066/14066 [00:12<00:00, 1092.52it/s]\n"
     ]
    },
    {
     "name": "stdout",
     "output_type": "stream",
     "text": [
      "Epoch  6/6. Train loss: 0.3368. Test loss: 0.3970\n"
     ]
    }
   ],
   "source": [
    "train(model, device, train_loader, loss_fn, opt, num_epochs, eval_fn, losses, evals)"
   ]
  },
  {
   "cell_type": "code",
   "execution_count": 20,
   "id": "965a368b-1b08-44fd-abb1-5fc6327324a7",
   "metadata": {},
   "outputs": [
    {
     "data": {
      "image/png": "[encoded data removed]",
      "text/plain": [
       "<Figure size 800x500 with 1 Axes>"
      ]
     },
     "metadata": {},
     "output_type": "display_data"
    }
   ],
   "source": [
    "# Plot the training and test loss values over time.\n",
    "plt.figure(figsize=(8, 5))\n",
    "plt.plot(losses, label='training loss')\n",
    "plt.plot(evals,  label='test loss')\n",
    "plt.xlabel('epochs')\n",
    "plt.ylabel('MSE loss')\n",
    "plt.legend()\n",
    "plt.show()"
   ]
  },
  {
   "cell_type": "code",
   "execution_count": 21,
   "id": "0d4b8503-3d93-4a28-8a82-7068bba8d7fc",
   "metadata": {},
   "outputs": [
    {
     "name": "stdout",
     "output_type": "stream",
     "text": [
      "Perc true pos : 83.59%\n",
      "Accuracy      : 86.85%\n",
      "Precision     : 88.24%\n",
      "Recall        : 97.22%\n"
     ]
    }
   ],
   "source": [
    "# Check some stats on the accuracy of the model.\n",
    "\n",
    "model.eval()\n",
    "total_inputs, num_correct = 0, 0\n",
    "num_true_pos, num_pred_pos, num_corr_pos = 0, 0, 0\n",
    "\n",
    "for users, movies, ratings in test_loader:\n",
    "    \n",
    "    users   = users.to(device)\n",
    "    movies  = movies.to(device)\n",
    "    ratings = np.array(ratings.float())\n",
    "    pred = model(users, movies)\n",
    "    pred = np.where(pred >= 0, 1, -1)\n",
    "\n",
    "    num_true_pos += np.where(ratings == 1, 1, 0).sum()\n",
    "    num_pred_pos += np.where(pred == 1, 1, 0).sum()\n",
    "    num_corr_pos += np.where((ratings == 1) * (pred == 1), 1, 0).sum()\n",
    "\n",
    "    total_inputs += users.size(0)\n",
    "    num_correct  += int((pred == ratings).sum())\n",
    "\n",
    "print(f'Perc true pos : {100 * num_true_pos / total_inputs:.2f}%')\n",
    "acc = num_correct / total_inputs\n",
    "print(f'Accuracy      : {100 * acc:.2f}%')\n",
    "print(f'Precision     : {100 * num_corr_pos / num_pred_pos:.2f}%')\n",
    "print(f'Recall        : {100 * num_corr_pos / num_true_pos:.2f}%')"
   ]
  },
  {
   "cell_type": "markdown",
   "id": "5b7dd829-ee96-4447-b7e0-04a81e473580",
   "metadata": {},
   "source": [
    "### Note\n",
    "\n",
    "The accuracy is only slightly higher than the baseline of predicting\n",
    "all pairs as positive. However, we can get a stronger sense that the\n",
    "model is actually learning something by looking at nearest neighbors\n",
    "in the embedding space."
   ]
  },
  {
   "cell_type": "markdown",
   "id": "d131654a-b8f6-4140-87b0-ee4ee7b8fcf7",
   "metadata": {},
   "source": [
    "## Perform some neighbor lookups\n",
    "\n",
    "The purpose of this section is to show how you can actually produce recommendations.\n",
    "You could produce recommendations for a particular user, but those are hard to evaluate.\n",
    "So in this section, I'll look up recommendations based on a movie query. This is working\n",
    "well when you can say \"based on liking the query movie, you'd probably also like these\n",
    "other movies.\" The last cell in this section shows the results."
   ]
  },
  {
   "cell_type": "code",
   "execution_count": 22,
   "id": "a70f2352-9baa-4f76-a2cb-f21d5039c87b",
   "metadata": {},
   "outputs": [],
   "source": [
    "# Load in the titles of the movies by movieId, along with other data.\n",
    "movie_data = pd.read_csv(\n",
    "    'ml-1m/movies.dat',\n",
    "    sep='::',\n",
    "    engine='python',\n",
    "    names=['movieId', 'title', 'genre'], encoding='cp1252'\n",
    ")"
   ]
  },
  {
   "cell_type": "code",
   "execution_count": 23,
   "id": "d5761776-2c21-48e5-865e-9d0cdec43bd8",
   "metadata": {},
   "outputs": [],
   "source": [
    "# Make the movieId the default index.\n",
    "movie_data = movie_data.set_index('movieId')"
   ]
  },
  {
   "cell_type": "code",
   "execution_count": 24,
   "id": "d9bb75ce-c69e-4561-9c41-a3a804cbd9b2",
   "metadata": {},
   "outputs": [],
   "source": [
    "# Pull out the embedding matrix and normalize all the rows.\n",
    "# Normalizing the rows makes it easier to perform lookups based on cosine similarity,\n",
    "# which I think tends to give us better results.\n",
    "movie_mat = model.movie_matrix.weight.data\n",
    "row_norms = torch.norm(movie_mat, dim=1, keepdim=True)\n",
    "row_norms[row_norms == 0] = 1.0\n",
    "movie_mat = movie_mat / row_norms"
   ]
  },
  {
   "cell_type": "code",
   "execution_count": 25,
   "id": "c7ff6c40-6dbc-4ed8-8e85-6f34eee9aff2",
   "metadata": {},
   "outputs": [],
   "source": [
    "# Find out how many ratings we have for each movie.\n",
    "# Movies with few ratings are likely to have unreliable results, and to be\n",
    "# more obscure, so we can decide to filter those out.\n",
    "counts = data['movieId'].value_counts()"
   ]
  },
  {
   "cell_type": "code",
   "execution_count": 26,
   "id": "8d2f0e15-e476-4940-b5d3-d0445d3437a4",
   "metadata": {},
   "outputs": [],
   "source": [
    "# I'll define a function to print out movies close to a source movie.\n",
    "def print_recs_for_movieid(movieid):\n",
    "\n",
    "    k = 300  # We'll look up 300 movies before they're filtered by popularity (ratings count).\n",
    "\n",
    "    # Find the top k nearest neighbors by embedding vectors.\n",
    "    movie_idx = dataset.to_int_id[movieid]\n",
    "    movie_vec = movie_mat[movie_idx]\n",
    "    scores = np.array(movie_mat @ movie_vec)\n",
    "    top_k = np.array(np.argsort(scores))[::-1][:k]\n",
    "\n",
    "    # We'll print out the top 10 results.\n",
    "    num_printed = 0\n",
    "    \n",
    "    for model_idx in top_k:\n",
    "        movieId = dataset.to_ext_id[model_idx]\n",
    "    \n",
    "        if counts[movieId] < 300:\n",
    "            continue\n",
    "    \n",
    "        movie_row = movie_data.loc[movieId]\n",
    "        print(\n",
    "            f'{num_printed + 1:2d}.',\n",
    "            f'id={movieId:4d} model_idx={model_idx:4d} score={scores[model_idx]:.3f}',\n",
    "            f' {movie_row.title:30s}',\n",
    "            movie_row.genre,\n",
    "            f'count={counts[movieId]}'\n",
    "        )\n",
    "    \n",
    "        num_printed += 1\n",
    "        if num_printed == 10:\n",
    "            break"
   ]
  },
  {
   "cell_type": "code",
   "execution_count": 27,
   "id": "afceb3e6-98e6-48c6-b3b5-f44565cf7345",
   "metadata": {},
   "outputs": [],
   "source": [
    "sample_movies = [\n",
    "    480,   # Jurassic Park\n",
    "    1197,  # The Princess Bride\n",
    "    733,   # The Rock\n",
    "    783,   # The Hunchback of Notre Dame\n",
    "    608,   # Fargo\n",
    "    3362,  # Dog Day Afternoon\n",
    "    223    # Clerks\n",
    "]"
   ]
  },
  {
   "cell_type": "code",
   "execution_count": 28,
   "id": "f0764ff0-ca2c-45e5-a454-ce2dfd1b0c43",
   "metadata": {},
   "outputs": [
    {
     "name": "stdout",
     "output_type": "stream",
     "text": [
      "________________________________________________________________________________\n",
      " 1. id= 480 model_idx= 113 score=1.000  Jurassic Park (1993)           Action|Adventure|Sci-Fi count=2672\n",
      " 2. id=1036 model_idx= 210 score=0.896  Die Hard (1988)                Action|Thriller count=1666\n",
      " 3. id=3510 model_idx= 519 score=0.892  Frequency (2000)               Drama|Thriller count=821\n",
      " 4. id=2872 model_idx= 720 score=0.890  Excalibur (1981)               Action|Drama|Fantasy|Romance count=742\n",
      " 5. id=2406 model_idx= 385 score=0.888  Romancing the Stone (1984)     Action|Adventure|Comedy|Romance count=1345\n",
      " 6. id=2000 model_idx= 711 score=0.869  Lethal Weapon (1987)           Action|Comedy|Crime|Drama count=1627\n",
      " 7. id=2268 model_idx=  59 score=0.868  Few Good Men, A (1992)         Crime|Drama count=1061\n",
      " 8. id=2993 model_idx=1022 score=0.863  Thunderball (1965)             Action count=404\n",
      " 9. id= 805 model_idx= 518 score=0.851  Time to Kill, A (1996)         Drama count=344\n",
      "10. id=3505 model_idx=1234 score=0.848  No Way Out (1987)              Thriller count=355\n",
      "________________________________________________________________________________\n",
      " 1. id=1197 model_idx=   5 score=1.000  Princess Bride, The (1987)     Action|Adventure|Comedy|Romance count=2318\n",
      " 2. id=1198 model_idx= 127 score=0.989  Raiders of the Lost Ark (1981) Action|Adventure count=2514\n",
      " 3. id= 260 model_idx=  44 score=0.981  Star Wars: Episode IV - A New Hope (1977) Action|Adventure|Fantasy|Sci-Fi count=2991\n",
      " 4. id= 318 model_idx= 167 score=0.979  Shawshank Redemption, The (1994) Drama count=2227\n",
      " 5. id=  50 model_idx= 259 score=0.975  Usual Suspects, The (1995)     Crime|Thriller count=1783\n",
      " 6. id=1242 model_idx=1109 score=0.974  Glory (1989)                   Action|Drama|War count=1112\n",
      " 7. id=1291 model_idx= 186 score=0.974  Indiana Jones and the Last Crusade (1989) Action|Adventure count=1628\n",
      " 8. id=1610 model_idx=  78 score=0.970  Hunt for Red October, The (1990) Action|Thriller count=1652\n",
      " 9. id= 527 model_idx=  23 score=0.970  Schindler's List (1993)        Drama|War count=2304\n",
      "10. id=1262 model_idx= 839 score=0.969  Great Escape, The (1963)       Adventure|War count=696\n",
      "________________________________________________________________________________\n",
      " 1. id= 733 model_idx= 195 score=1.000  Rock, The (1996)               Action|Adventure|Thriller count=1340\n",
      " 2. id=3555 model_idx=1712 score=0.902  U-571 (2000)                   Action|Thriller count=908\n",
      " 3. id=2000 model_idx= 711 score=0.877  Lethal Weapon (1987)           Action|Comedy|Crime|Drama count=1627\n",
      " 4. id=1370 model_idx= 117 score=0.871  Die Hard 2 (1990)              Action|Thriller count=1135\n",
      " 5. id=1101 model_idx= 386 score=0.869  Top Gun (1986)                 Action|Romance count=1010\n",
      " 6. id=2273 model_idx= 903 score=0.866  Rush Hour (1998)               Action|Thriller count=627\n",
      " 7. id=2058 model_idx= 240 score=0.866  Negotiator, The (1998)         Action|Thriller count=799\n",
      " 8. id=1036 model_idx= 210 score=0.852  Die Hard (1988)                Action|Thriller count=1666\n",
      " 9. id=3615 model_idx=1846 score=0.851  Dinosaur (2000)                Animation|Children's count=345\n",
      "10. id= 802 model_idx= 581 score=0.850  Phenomenon (1996)              Drama|Romance count=427\n",
      "________________________________________________________________________________\n",
      " 1. id= 783 model_idx=  35 score=1.000  Hunchback of Notre Dame, The (1996) Animation|Children's|Musical count=390\n",
      " 2. id=1135 model_idx= 727 score=0.859  Private Benjamin (1980)        Comedy count=407\n",
      " 3. id=2141 model_idx=1034 score=0.836  American Tail, An (1986)       Animation|Children's|Comedy count=404\n",
      " 4. id=2687 model_idx=  16 score=0.830  Tarzan (1999)                  Animation|Children's count=442\n",
      " 5. id=2085 model_idx=1046 score=0.829  101 Dalmatians (1961)          Animation|Children's count=565\n",
      " 6. id=1028 model_idx=  45 score=0.820  Mary Poppins (1964)            Children's|Comedy|Musical count=1011\n",
      " 7. id=   7 model_idx= 576 score=0.816  Sabrina (1995)                 Comedy|Romance count=458\n",
      " 8. id=2125 model_idx= 557 score=0.811  Ever After: A Cinderella Story (1998) Drama|Romance count=416\n",
      " 9. id=3844 model_idx=1585 score=0.810  Steel Magnolias (1989)         Drama count=408\n",
      "10. id=2145 model_idx=1038 score=0.801  Pretty in Pink (1986)          Comedy|Drama|Romance count=693\n",
      "________________________________________________________________________________\n",
      " 1. id= 608 model_idx=  51 score=1.000  Fargo (1996)                   Crime|Drama|Thriller count=2513\n",
      " 2. id=3362 model_idx= 829 score=0.977  Dog Day Afternoon (1975)       Comedy|Crime|Drama count=765\n",
      " 3. id=2692 model_idx=  43 score=0.968  Run Lola Run (Lola rennt) (1998) Action|Crime|Romance count=1072\n",
      " 4. id= 246 model_idx= 795 score=0.966  Hoop Dreams (1994)             Documentary count=716\n",
      " 5. id=3730 model_idx=1453 score=0.964  Conversation, The (1974)       Drama|Mystery count=453\n",
      " 6. id=3683 model_idx=1456 score=0.963  Blood Simple (1984)            Drama|Film-Noir count=628\n",
      " 7. id=1244 model_idx= 170 score=0.962  Manhattan (1979)               Comedy|Drama|Romance count=718\n",
      " 8. id=1248 model_idx=1231 score=0.958  Touch of Evil (1958)           Crime|Film-Noir|Thriller count=514\n",
      " 9. id=3551 model_idx=1262 score=0.956  Marathon Man (1976)            Thriller count=400\n",
      "10. id= 306 model_idx=2483 score=0.955  Three Colors: Red (1994)       Drama count=334\n",
      "________________________________________________________________________________\n",
      " 1. id=3362 model_idx= 829 score=1.000  Dog Day Afternoon (1975)       Comedy|Crime|Drama count=765\n",
      " 2. id=3730 model_idx=1453 score=0.979  Conversation, The (1974)       Drama|Mystery count=453\n",
      " 3. id= 246 model_idx= 795 score=0.978  Hoop Dreams (1994)             Documentary count=716\n",
      " 4. id= 608 model_idx=  51 score=0.977  Fargo (1996)                   Crime|Drama|Thriller count=2513\n",
      " 5. id=3735 model_idx= 135 score=0.976  Serpico (1973)                 Crime|Drama count=495\n",
      " 6. id=1084 model_idx= 111 score=0.975  Bonnie and Clyde (1967)        Crime|Drama count=686\n",
      " 7. id=3551 model_idx=1262 score=0.972  Marathon Man (1976)            Thriller count=400\n",
      " 8. id=3435 model_idx=1237 score=0.971  Double Indemnity (1944)        Crime|Film-Noir count=551\n",
      " 9. id=2313 model_idx=1352 score=0.970  Elephant Man, The (1980)       Drama count=457\n",
      "10. id=1244 model_idx= 170 score=0.970  Manhattan (1979)               Comedy|Drama|Romance count=718\n",
      "________________________________________________________________________________\n",
      " 1. id= 223 model_idx= 515 score=1.000  Clerks (1994)                  Comedy count=1412\n",
      " 2. id=1639 model_idx= 470 score=0.942  Chasing Amy (1997)             Drama|Romance count=966\n",
      " 3. id=1500 model_idx= 316 score=0.898  Grosse Pointe Blank (1997)     Comedy|Crime count=1136\n",
      " 4. id=  32 model_idx= 376 score=0.897  Twelve Monkeys (1995)          Drama|Sci-Fi count=1511\n",
      " 5. id=2321 model_idx=  20 score=0.889  Pleasantville (1998)           Comedy count=1158\n",
      " 6. id= 741 model_idx= 468 score=0.885  Ghost in the Shell (Kokaku kidotai) (1995) Animation|Sci-Fi count=314\n",
      " 7. id=3317 model_idx=2091 score=0.876  Wonder Boys (2000)             Comedy|Drama count=496\n",
      " 8. id=1257 model_idx= 563 score=0.872  Better Off Dead... (1985)      Comedy count=472\n",
      " 9. id=2542 model_idx=1011 score=0.867  Lock, Stock & Two Smoking Barrels (1998) Comedy|Crime|Thriller count=625\n",
      "10. id=2580 model_idx= 291 score=0.865  Go (1999)                      Crime count=723\n"
     ]
    }
   ],
   "source": [
    "for movieid in sample_movies:\n",
    "    print('_' * 80)\n",
    "    print_recs_for_movieid(movieid)"
   ]
  }
 ],
 "metadata": {
  "kernelspec": {
   "display_name": "Python 3 (ipykernel)",
   "language": "python",
   "name": "python3"
  },
  "language_info": {
   "codemirror_mode": {
    "name": "ipython",
    "version": 3
   },
   "file_extension": ".py",
   "mimetype": "text/x-python",
   "name": "python",
   "nbconvert_exporter": "python",
   "pygments_lexer": "ipython3",
   "version": "3.11.3"
  }
 },
 "nbformat": 4,
 "nbformat_minor": 5
}
