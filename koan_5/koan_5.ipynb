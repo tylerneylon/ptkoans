{
 "cells": [
  {
   "cell_type": "markdown",
   "id": "d206b35b-8aa6-41ab-8ddd-ff4e579a5907",
   "metadata": {},
   "source": [
    "# koan_5 — CNN for MNIST classification\n",
    "\n",
    "The purpose of this notebook is to build a classic\n",
    "CNN classifier for the simple MNIST dataset."
   ]
  },
  {
   "cell_type": "markdown",
   "id": "8f0b5405-bd76-4744-9925-f928d574b638",
   "metadata": {},
   "source": [
    "## Imports"
   ]
  },
  {
   "cell_type": "code",
   "execution_count": 4,
   "id": "0cfa2e26-dc27-442e-a99f-66875d3107fc",
   "metadata": {
    "editable": true,
    "slideshow": {
     "slide_type": ""
    },
    "tags": []
   },
   "outputs": [],
   "source": [
    "%matplotlib inline\n",
    "\n",
    "import matplotlib.pyplot as plt\n",
    "\n",
    "import torch\n",
    "from torch import nn\n",
    "from torch import optim\n",
    "from torchvision import datasets, transforms\n",
    "from torch.utils.data import DataLoader"
   ]
  },
  {
   "cell_type": "markdown",
   "id": "87971fed-33d4-4990-a9b0-dd048ae6e7ef",
   "metadata": {
    "editable": true,
    "slideshow": {
     "slide_type": ""
    },
    "tags": []
   },
   "source": [
    "## Load the MNIST data"
   ]
  },
  {
   "cell_type": "code",
   "execution_count": 3,
   "id": "3d35af5e-50bd-46be-9c2d-9db47cdb1273",
   "metadata": {},
   "outputs": [],
   "source": [
    "# We'll load the data so that it's normalized, meaning that we push\n",
    "# the mean toward 0, with channel values ending up around [-1, 1] or so.\n",
    "transform = transforms.Compose([\n",
    "    transforms.ToTensor(),\n",
    "    transforms.Normalize((0.5,), (0.5,))\n",
    "])\n",
    "train_dataset = datasets.MNIST(root='./data', train=True,  transform=transform, download=True)\n",
    "test_dataset  = datasets.MNIST(root='./data', train=False, transform=transform, download=True)"
   ]
  },
  {
   "cell_type": "code",
   "execution_count": 5,
   "id": "0ca5a3b2-2a52-4e8f-8f0d-a2329766619b",
   "metadata": {},
   "outputs": [],
   "source": [
    "# Inspect a single element to see what this data is like.\n",
    "image, label = train_dataset[0]"
   ]
  },
  {
   "cell_type": "code",
   "execution_count": 7,
   "id": "6ba75253-ffe7-4267-991c-4ae1e74b9193",
   "metadata": {},
   "outputs": [
    {
     "data": {
      "text/plain": [
       "(torch.Size([1, 28, 28]), 5)"
      ]
     },
     "execution_count": 7,
     "metadata": {},
     "output_type": "execute_result"
    }
   ],
   "source": [
    "image.shape, label"
   ]
  },
  {
   "cell_type": "code",
   "execution_count": 13,
   "id": "e6b43921-9af6-4f2c-abbd-7e229d4582a2",
   "metadata": {},
   "outputs": [
    {
     "data": {
      "image/png": "[encoded data removed]",
      "text/plain": [
       "<Figure size 200x200 with 1 Axes>"
      ]
     },
     "metadata": {},
     "output_type": "display_data"
    }
   ],
   "source": [
    "plt.figure(figsize=(2, 2))\n",
    "plt.axis('off')\n",
    "plt.imshow(image.squeeze(), cmap='gray');"
   ]
  },
  {
   "cell_type": "code",
   "execution_count": null,
   "id": "66651cd6-c3d8-415c-a758-bc0cf1e0ca62",
   "metadata": {},
   "outputs": [],
   "source": []
  }
 ],
 "metadata": {
  "kernelspec": {
   "display_name": "Python 3 (ipykernel)",
   "language": "python",
   "name": "python3"
  },
  "language_info": {
   "codemirror_mode": {
    "name": "ipython",
    "version": 3
   },
   "file_extension": ".py",
   "mimetype": "text/x-python",
   "name": "python",
   "nbconvert_exporter": "python",
   "pygments_lexer": "ipython3",
   "version": "3.11.3"
  }
 },
 "nbformat": 4,
 "nbformat_minor": 5
}
